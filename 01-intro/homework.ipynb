{
 "cells": [
  {
   "cell_type": "code",
   "execution_count": null,
   "id": "3329b4c8-77ea-4b06-ab0c-d567dd5a2a0a",
   "metadata": {},
   "outputs": [],
   "source": [
    "import openai"
   ]
  },
  {
   "cell_type": "code",
   "execution_count": 2,
   "id": "bc198ae1-0ac1-4ced-8aee-6e9fd2afa3f3",
   "metadata": {},
   "outputs": [],
   "source": [
    "from openai import OpenAI"
   ]
  },
  {
   "cell_type": "markdown",
   "id": "545db585",
   "metadata": {},
   "source": [
    "add your full key here"
   ]
  },
  {
   "cell_type": "code",
   "execution_count": null,
   "id": "2743cd08-d910-4e09-a016-92e1026baae8",
   "metadata": {},
   "outputs": [],
   "source": [
    "client= OpenAI(api_key='sk-...')"
   ]
  },
  {
   "cell_type": "code",
   "execution_count": 4,
   "id": "f689ad88-24bb-4f6f-99d7-9d8e2cd527c8",
   "metadata": {},
   "outputs": [],
   "source": [
    " import os "
   ]
  },
  {
   "cell_type": "code",
   "execution_count": null,
   "id": "8fd933ec-06b3-474f-af8d-b838009a5f8e",
   "metadata": {},
   "outputs": [],
   "source": [
    "response = client.chat.completions.create(\n",
    "    model='gpt-4.1',\n",
    "    messages=[{\"role\":\"user\" , \"content\" : \"is it too late to join the course? \"}]\n",
    ")"
   ]
  },
  {
   "cell_type": "code",
   "execution_count": null,
   "id": "ac91ef63-ad12-4507-acf5-1bbcf4434014",
   "metadata": {},
   "outputs": [],
   "source": [
    "responce.choices[0].message.content"
   ]
  }
 ],
 "metadata": {
  "kernelspec": {
   "display_name": "Python 3 (ipykernel)",
   "language": "python",
   "name": "python3"
  },
  "language_info": {
   "codemirror_mode": {
    "name": "ipython",
    "version": 3
   },
   "file_extension": ".py",
   "mimetype": "text/x-python",
   "name": "python",
   "nbconvert_exporter": "python",
   "pygments_lexer": "ipython3",
   "version": "3.12.1"
  }
 },
 "nbformat": 4,
 "nbformat_minor": 5
}
